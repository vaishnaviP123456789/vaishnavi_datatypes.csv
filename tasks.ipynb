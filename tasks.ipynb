{
 "cells": [
  {
   "cell_type": "code",
   "execution_count": 21,
   "id": "91458f3d",
   "metadata": {},
   "outputs": [],
   "source": [
    "[name]=[\"vaishnavi\"]"
   ]
  },
  {
   "cell_type": "code",
   "execution_count": 22,
   "id": "ddadcce3",
   "metadata": {},
   "outputs": [],
   "source": [
    "[name]=[\"vaishnavi\"]"
   ]
  },
  {
   "cell_type": "code",
   "execution_count": 24,
   "id": "f06fdbb6",
   "metadata": {},
   "outputs": [
    {
     "name": "stdout",
     "output_type": "stream",
     "text": [
      "vaishnavi\n"
     ]
    }
   ],
   "source": [
    "print(name)"
   ]
  },
  {
   "cell_type": "code",
   "execution_count": 26,
   "id": "ca71ad68",
   "metadata": {},
   "outputs": [],
   "source": [
    "(names)=[\"ratnakar\",\"gayathri\",\"vaishnavi\",\"sai suchander\"]"
   ]
  },
  {
   "cell_type": "code",
   "execution_count": 33,
   "id": "9e25b6e4",
   "metadata": {},
   "outputs": [],
   "source": [
    "(names)=[\"ratnakar\",\"gayathri\",\"vaishnavi\",\"sai suchander\"]"
   ]
  },
  {
   "cell_type": "code",
   "execution_count": 35,
   "id": "155ee2c0",
   "metadata": {},
   "outputs": [
    {
     "name": "stdout",
     "output_type": "stream",
     "text": [
      "['ratnakar', 'gayathri', 'vaishnavi', 'sai suchander']\n"
     ]
    }
   ],
   "source": [
    "print(names)"
   ]
  },
  {
   "cell_type": "code",
   "execution_count": 31,
   "id": "a26af5a1",
   "metadata": {},
   "outputs": [],
   "source": [
    "(names)=[\"father\",\"mother\",\"myself\",\"brother\"]"
   ]
  },
  {
   "cell_type": "code",
   "execution_count": 30,
   "id": "9cd3a239",
   "metadata": {},
   "outputs": [],
   "source": [
    "(names)=[\"father\",\"mother\",\"myself\",\"brother\"]"
   ]
  },
  {
   "cell_type": "code",
   "execution_count": 36,
   "id": "e616d35a",
   "metadata": {},
   "outputs": [
    {
     "name": "stdout",
     "output_type": "stream",
     "text": [
      "['ratnakar', 'gayathri', 'vaishnavi', 'sai suchander']\n"
     ]
    }
   ],
   "source": [
    "print(names)"
   ]
  },
  {
   "cell_type": "code",
   "execution_count": null,
   "id": "a0c2d10c",
   "metadata": {},
   "outputs": [],
   "source": []
  },
  {
   "cell_type": "code",
   "execution_count": null,
   "id": "744dd8c5",
   "metadata": {},
   "outputs": [],
   "source": []
  },
  {
   "cell_type": "code",
   "execution_count": null,
   "id": "c77dfbb0",
   "metadata": {},
   "outputs": [],
   "source": []
  }
 ],
 "metadata": {
  "kernelspec": {
   "display_name": "Python 3 (ipykernel)",
   "language": "python",
   "name": "python3"
  },
  "language_info": {
   "codemirror_mode": {
    "name": "ipython",
    "version": 3
   },
   "file_extension": ".py",
   "mimetype": "text/x-python",
   "name": "python",
   "nbconvert_exporter": "python",
   "pygments_lexer": "ipython3",
   "version": "3.10.9"
  }
 },
 "nbformat": 4,
 "nbformat_minor": 5
}
